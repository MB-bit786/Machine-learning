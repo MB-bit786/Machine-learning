{
  "nbformat": 4,
  "nbformat_minor": 0,
  "metadata": {
    "colab": {
      "provenance": []
    },
    "kernelspec": {
      "name": "python3",
      "display_name": "Python 3"
    },
    "language_info": {
      "name": "python"
    }
  },
  "cells": [
    {
      "cell_type": "code",
      "execution_count": null,
      "metadata": {
        "id": "MZMeE6yjK_V7"
      },
      "outputs": [],
      "source": [
        "import numpy as np"
      ]
    },
    {
      "cell_type": "markdown",
      "source": [
        "Create a NumPy array of integers from 1 to 10 (inclusive)."
      ],
      "metadata": {
        "id": "jAe1QZpbeUpr"
      }
    },
    {
      "cell_type": "code",
      "source": [
        "arr=np.arange(1,11)\n",
        "arr"
      ],
      "metadata": {
        "colab": {
          "base_uri": "https://localhost:8080/"
        },
        "id": "LccRAFnlLZwP",
        "outputId": "58296d1e-fe08-4c62-9d9c-b381e757595a"
      },
      "execution_count": null,
      "outputs": [
        {
          "output_type": "execute_result",
          "data": {
            "text/plain": [
              "array([ 1,  2,  3,  4,  5,  6,  7,  8,  9, 10])"
            ]
          },
          "metadata": {},
          "execution_count": 13
        }
      ]
    },
    {
      "cell_type": "markdown",
      "source": [
        "Reshape the array from the previous question into a 2x5 matrix."
      ],
      "metadata": {
        "id": "NFp6ZrOveQAx"
      }
    },
    {
      "cell_type": "code",
      "source": [
        "arr=arr.reshape(2,5)"
      ],
      "metadata": {
        "id": "I2kfOIeXL-Mt"
      },
      "execution_count": null,
      "outputs": []
    },
    {
      "cell_type": "markdown",
      "source": [
        "Perform element-wise multiplication of two NumPy arrays:"
      ],
      "metadata": {
        "id": "KqwFEolMeKEZ"
      }
    },
    {
      "cell_type": "code",
      "source": [
        "arr2=np.arange(11,21).reshape(2,5)\n",
        "arr2"
      ],
      "metadata": {
        "colab": {
          "base_uri": "https://localhost:8080/"
        },
        "id": "DBX0MCJRMIeZ",
        "outputId": "59bcbe2f-bb6f-4b31-9aee-9b95ff2e3049"
      },
      "execution_count": null,
      "outputs": [
        {
          "output_type": "execute_result",
          "data": {
            "text/plain": [
              "array([[11, 12, 13, 14, 15],\n",
              "       [16, 17, 18, 19, 20]])"
            ]
          },
          "metadata": {},
          "execution_count": 6
        }
      ]
    },
    {
      "cell_type": "code",
      "source": [
        "arr3 = (arr * arr2).reshape(2,5)\n",
        "print(\"MULTIPLICATION\", arr3)"
      ],
      "metadata": {
        "colab": {
          "base_uri": "https://localhost:8080/"
        },
        "id": "gxEmjJzxMf20",
        "outputId": "0ba5b941-75b8-4fdf-9238-fc2a86917e1a"
      },
      "execution_count": null,
      "outputs": [
        {
          "output_type": "stream",
          "name": "stdout",
          "text": [
            "MULTIPLICATION [[ 11  24  39  56  75]\n",
            " [ 96 119 144 171 200]]\n"
          ]
        }
      ]
    },
    {
      "cell_type": "markdown",
      "source": [
        "#Create one multidimensional array of shape (3,4,2) and perform\n",
        "#indexing and slicing on it."
      ],
      "metadata": {
        "id": "9cjZjxQ4eGOM"
      }
    },
    {
      "cell_type": "code",
      "source": [
        "arr4 = np.arange(1, 25).reshape(3, 4, 2)\n",
        "print(\"Original array:\\n\", arr4)"
      ],
      "metadata": {
        "colab": {
          "base_uri": "https://localhost:8080/"
        },
        "id": "zZxy9fJMOnmB",
        "outputId": "e2a5e08c-5fcb-4a75-a242-fe431b819a23"
      },
      "execution_count": null,
      "outputs": [
        {
          "output_type": "stream",
          "name": "stdout",
          "text": [
            "Original array:\n",
            " [[[ 1  2]\n",
            "  [ 3  4]\n",
            "  [ 5  6]\n",
            "  [ 7  8]]\n",
            "\n",
            " [[ 9 10]\n",
            "  [11 12]\n",
            "  [13 14]\n",
            "  [15 16]]\n",
            "\n",
            " [[17 18]\n",
            "  [19 20]\n",
            "  [21 22]\n",
            "  [23 24]]]\n"
          ]
        }
      ]
    },
    {
      "cell_type": "markdown",
      "source": [],
      "metadata": {
        "id": "Bjuvfjedd98R"
      }
    },
    {
      "cell_type": "code",
      "source": [
        "print(\"Sliced arr[:, :2, :]:\\n\", arr4[:, :2, :])"
      ],
      "metadata": {
        "colab": {
          "base_uri": "https://localhost:8080/"
        },
        "id": "jMXwmPx1doYo",
        "outputId": "5cef5276-ff2b-4ed1-b615-cf425d38fa96"
      },
      "execution_count": null,
      "outputs": [
        {
          "output_type": "stream",
          "name": "stdout",
          "text": [
            "Sliced arr[:, :2, :]:\n",
            " [[[ 1  2]\n",
            "  [ 3  4]]\n",
            "\n",
            " [[ 9 10]\n",
            "  [11 12]]\n",
            "\n",
            " [[17 18]\n",
            "  [19 20]]]\n"
          ]
        }
      ]
    },
    {
      "cell_type": "code",
      "source": [
        "print(\"Element at arr[2][1][0]:\", arr4[2][1][0])"
      ],
      "metadata": {
        "colab": {
          "base_uri": "https://localhost:8080/"
        },
        "id": "rkQE-PAWc20L",
        "outputId": "a1bb880e-1d2b-4e48-cdf7-a87af7931924"
      },
      "execution_count": null,
      "outputs": [
        {
          "output_type": "stream",
          "name": "stdout",
          "text": [
            "Element at arr[2][1][0]: 19\n"
          ]
        }
      ]
    },
    {
      "cell_type": "markdown",
      "source": [
        "Generate a 3x3 matrix with random values between 0 and 1."
      ],
      "metadata": {
        "id": "qiDZ2WwFd5kk"
      }
    },
    {
      "cell_type": "code",
      "source": [
        "arr5=np.random.rand(3,3)\n",
        "arr5"
      ],
      "metadata": {
        "colab": {
          "base_uri": "https://localhost:8080/"
        },
        "id": "MmmGsHfqd7xR",
        "outputId": "844c7b43-40b1-448d-fbf2-342dd4ae20b1"
      },
      "execution_count": null,
      "outputs": [
        {
          "output_type": "execute_result",
          "data": {
            "text/plain": [
              "array([[0.92651338, 0.23030179, 0.83370809],\n",
              "       [0.34374247, 0.45773872, 0.05678252],\n",
              "       [0.9681788 , 0.88457644, 0.56534256]])"
            ]
          },
          "metadata": {},
          "execution_count": 27
        }
      ]
    },
    {
      "cell_type": "markdown",
      "source": [
        "Create two 2d array and perform hstack and vstack."
      ],
      "metadata": {
        "id": "lwPC1r35e8hW"
      }
    },
    {
      "cell_type": "code",
      "source": [
        "a = np.array([[1, 2, 3],\n",
        "              [4, 5, 6]])\n",
        "\n",
        "b = np.array([[7, 8, 9],\n",
        "              [10, 11, 12]])\n",
        "\n",
        "\n",
        "print(\"Array a:\\n\", a)\n",
        "print(\"Array b:\\n\", b)"
      ],
      "metadata": {
        "colab": {
          "base_uri": "https://localhost:8080/"
        },
        "id": "qtvi63qHe9c4",
        "outputId": "cf0b15aa-c7b3-4abb-bbb3-0d4eaca50cc7"
      },
      "execution_count": null,
      "outputs": [
        {
          "output_type": "stream",
          "name": "stdout",
          "text": [
            "Array a:\n",
            " [[1 2 3]\n",
            " [4 5 6]]\n",
            "Array b:\n",
            " [[ 7  8  9]\n",
            " [10 11 12]]\n"
          ]
        }
      ]
    },
    {
      "cell_type": "code",
      "source": [
        "hstacked = np.hstack((a, b))\n",
        "print(\"Horizontal Stack:\\n\", hstacked)"
      ],
      "metadata": {
        "id": "3-k-G_l1fUMF",
        "outputId": "0955f506-324e-4f92-8973-a4e57e92b267",
        "colab": {
          "base_uri": "https://localhost:8080/"
        }
      },
      "execution_count": null,
      "outputs": [
        {
          "output_type": "stream",
          "name": "stdout",
          "text": [
            "Horizontal Stack:\n",
            " [[ 1  2  3  7  8  9]\n",
            " [ 4  5  6 10 11 12]]\n"
          ]
        }
      ]
    },
    {
      "cell_type": "code",
      "source": [
        "vstacked = np.vstack((a, b))\n",
        "print(\"Vertical Stack:\\n\", vstacked)"
      ],
      "metadata": {
        "id": "PSxjQXggfXsk",
        "outputId": "999b05f0-d744-4b31-fbe0-16b658fa4aaa",
        "colab": {
          "base_uri": "https://localhost:8080/"
        }
      },
      "execution_count": null,
      "outputs": [
        {
          "output_type": "stream",
          "name": "stdout",
          "text": [
            "Vertical Stack:\n",
            " [[ 1  2  3]\n",
            " [ 4  5  6]\n",
            " [ 7  8  9]\n",
            " [10 11 12]]\n"
          ]
        }
      ]
    }
  ]
}