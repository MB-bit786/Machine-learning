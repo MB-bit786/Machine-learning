{
  "nbformat": 4,
  "nbformat_minor": 0,
  "metadata": {
    "colab": {
      "provenance": []
    },
    "kernelspec": {
      "name": "python3",
      "display_name": "Python 3"
    },
    "language_info": {
      "name": "python"
    }
  },
  "cells": [
    {
      "cell_type": "markdown",
      "source": [
        "***Load a CSV file into a Pandas DataFrame and display the first 5 rows***"
      ],
      "metadata": {
        "id": "vz-qaKOE076j"
      }
    },
    {
      "cell_type": "code",
      "source": [
        "import pandas as pd"
      ],
      "metadata": {
        "id": "zoTrC7_X1rvv"
      },
      "execution_count": null,
      "outputs": []
    },
    {
      "cell_type": "code",
      "source": [
        "df = pd.read_csv('/content/sample_data/Employe_Performance_dataset.csv')\n",
        "print(df)"
      ],
      "metadata": {
        "colab": {
          "base_uri": "https://localhost:8080/"
        },
        "id": "0lHexVEO1yfw",
        "outputId": "6d9d097e-70a6-48bf-c6c6-8a8be3de2b89"
      },
      "execution_count": null,
      "outputs": [
        {
          "output_type": "stream",
          "name": "stdout",
          "text": [
            "       ID                Name  Age  Gender Department  Salary Joining Date  \\\n",
            "0       1        Cory Escobar   48  Female         HR    5641   2015-05-03   \n",
            "1       2     Timothy Sanchez   25   Other      Sales    4249   2020-11-09   \n",
            "2       3        Chad Nichols   57   Other      Sales    3058   2019-02-12   \n",
            "3       4  Christine Williams   58  Female         IT    5895   2017-09-08   \n",
            "4       5        Amber Harris   35   Other         IT    4317   2020-02-15   \n",
            "..    ...                 ...  ...     ...        ...     ...          ...   \n",
            "995   996       Pamela Reeves   49  Female      Sales    7652   2024-06-23   \n",
            "996   997        Todd Johnson   29  Female      Sales    6754   2018-07-20   \n",
            "997   998     Michael Sanchez   18    Male      Sales    5278   2023-07-05   \n",
            "998   999       Ashley Taylor   51  Female         IT    5437   2022-02-18   \n",
            "999  1000         Shawn Scott   45    Male         IT    7364   2022-07-31   \n",
            "\n",
            "     Performance Score  Experience    Status     Location  Session  \n",
            "0                  2.0          16    Active     New York    Night  \n",
            "1                  2.0          11  Inactive  Los Angeles  Evening  \n",
            "2                  NaN           1  Inactive     New York  Morning  \n",
            "3                  2.0          13  Inactive  Los Angeles  Evening  \n",
            "4                  5.0          16  Inactive     New York  Evening  \n",
            "..                 ...         ...       ...          ...      ...  \n",
            "995                4.0           3    Active  Los Angeles  Evening  \n",
            "996                NaN          12  Inactive     New York  Morning  \n",
            "997                5.0           3    Active     New York  Morning  \n",
            "998                4.0           9  Inactive  Los Angeles  Evening  \n",
            "999                2.0           4    Active     New York  Morning  \n",
            "\n",
            "[1000 rows x 12 columns]\n"
          ]
        }
      ]
    },
    {
      "cell_type": "code",
      "source": [
        "d=df.head(5)\n",
        "print(d)"
      ],
      "metadata": {
        "colab": {
          "base_uri": "https://localhost:8080/"
        },
        "id": "nPEfmH2H17QL",
        "outputId": "10781f27-ab04-4b0f-ef52-9b89f39e9516"
      },
      "execution_count": null,
      "outputs": [
        {
          "output_type": "stream",
          "name": "stdout",
          "text": [
            "   ID                Name  Age  Gender Department  Salary Joining Date  \\\n",
            "0   1        Cory Escobar   48  Female         HR    5641   2015-05-03   \n",
            "1   2     Timothy Sanchez   25   Other      Sales    4249   2020-11-09   \n",
            "2   3        Chad Nichols   57   Other      Sales    3058   2019-02-12   \n",
            "3   4  Christine Williams   58  Female         IT    5895   2017-09-08   \n",
            "4   5        Amber Harris   35   Other         IT    4317   2020-02-15   \n",
            "\n",
            "   Performance Score  Experience    Status     Location  Session  \n",
            "0                2.0          16    Active     New York    Night  \n",
            "1                2.0          11  Inactive  Los Angeles  Evening  \n",
            "2                NaN           1  Inactive     New York  Morning  \n",
            "3                2.0          13  Inactive  Los Angeles  Evening  \n",
            "4                5.0          16  Inactive     New York  Evening  \n"
          ]
        }
      ]
    },
    {
      "cell_type": "markdown",
      "source": [
        "***Select the 'Name' and 'Age' columns from a DataFrame named df***"
      ],
      "metadata": {
        "id": "0Hsb5vRd8Ow2"
      }
    },
    {
      "cell_type": "code",
      "source": [
        "a=df.loc[:,[\"Name\",\"Age\"]]\n",
        "print(a)"
      ],
      "metadata": {
        "colab": {
          "base_uri": "https://localhost:8080/"
        },
        "id": "B6KQDl6n2PGh",
        "outputId": "d7022616-0f96-49c0-b05d-1c5415668e79"
      },
      "execution_count": null,
      "outputs": [
        {
          "output_type": "stream",
          "name": "stdout",
          "text": [
            "                   Name  Age\n",
            "0          Cory Escobar   48\n",
            "1       Timothy Sanchez   25\n",
            "2          Chad Nichols   57\n",
            "3    Christine Williams   58\n",
            "4          Amber Harris   35\n",
            "..                  ...  ...\n",
            "995       Pamela Reeves   49\n",
            "996        Todd Johnson   29\n",
            "997     Michael Sanchez   18\n",
            "998       Ashley Taylor   51\n",
            "999         Shawn Scott   45\n",
            "\n",
            "[1000 rows x 2 columns]\n"
          ]
        }
      ]
    },
    {
      "cell_type": "markdown",
      "source": [
        " ***Group a DataFrame by the 'Department' column and calculate the\n",
        "average salary in each department***"
      ],
      "metadata": {
        "id": "WvzTl28o8UEm"
      }
    },
    {
      "cell_type": "code",
      "source": [
        "avg_salary = df.groupby('Department')['Salary'].mean()\n",
        "\n",
        "print(avg_salary)"
      ],
      "metadata": {
        "colab": {
          "base_uri": "https://localhost:8080/"
        },
        "id": "OlZ163288YIO",
        "outputId": "b7fee87c-2c3e-41cc-b0d0-528d068ac4aa"
      },
      "execution_count": null,
      "outputs": [
        {
          "output_type": "stream",
          "name": "stdout",
          "text": [
            "Department\n",
            "HR       5982.396285\n",
            "IT       5968.371681\n",
            "Sales    5804.088757\n",
            "Name: Salary, dtype: float64\n"
          ]
        }
      ]
    },
    {
      "cell_type": "markdown",
      "source": [
        "***Sort a DataFrame by the 'Date' column in ascending order. (Take\n",
        "the dataset accordingly)***"
      ],
      "metadata": {
        "id": "7V0Q1ayR9h-P"
      }
    },
    {
      "cell_type": "code",
      "source": [
        "b=df.sort_values(by='Joining Date')\n",
        "print(b.head(10))"
      ],
      "metadata": {
        "colab": {
          "base_uri": "https://localhost:8080/"
        },
        "id": "gI7A9BAD9oAs",
        "outputId": "c0d8114f-b8d6-4c08-f6ec-89bc9d6f8dd6"
      },
      "execution_count": null,
      "outputs": [
        {
          "output_type": "stream",
          "name": "stdout",
          "text": [
            "      ID            Name  Age  Gender Department  Salary Joining Date  \\\n",
            "716  717    Jeff Johnson   20   Other         IT    7345   2014-12-11   \n",
            "382  383    Kelly Norton   30  Female         IT    7241   2014-12-18   \n",
            "43    44   Cindy Nichols   64  Female         IT    2427   2014-12-19   \n",
            "185  186    Jane Gardner   51   Other      Sales    7894   2014-12-29   \n",
            "312  313    Sean Barrett   26  Female      Sales    3495   2015-01-03   \n",
            "86    87    Dustin Allen   34    Male         IT    8629   2015-01-08   \n",
            "841  842     Tammy Smith   30  Female      Sales    2087   2015-01-09   \n",
            "912  913  Courtney Lopez   59  Female      Sales    4875   2015-01-18   \n",
            "479  480       Jay Scott   28   Other         HR    5496   2015-01-21   \n",
            "10    11     Nicole Bell   42  Female      Sales    5336   2015-01-28   \n",
            "\n",
            "     Performance Score  Experience    Status     Location  Session  \n",
            "716                NaN          11  Inactive     New York  Morning  \n",
            "382                4.0           1  Inactive     New York  Morning  \n",
            "43                 NaN           6    Active     New York    Night  \n",
            "185                NaN          11  Inactive  Los Angeles    Night  \n",
            "312                1.0          18    Active  Los Angeles    Night  \n",
            "86                 NaN           9  Inactive      Chicago  Morning  \n",
            "841                5.0           6  Inactive  Los Angeles  Morning  \n",
            "912                NaN           6    Active  Los Angeles  Evening  \n",
            "479                NaN          18    Active      Chicago    Night  \n",
            "10                 3.0           7    Active  Los Angeles  Evening  \n"
          ]
        }
      ]
    },
    {
      "cell_type": "markdown",
      "source": [
        "***Add one new New column with into a existing DataFrame .***"
      ],
      "metadata": {
        "id": "TjfZu18Y-oWk"
      }
    },
    {
      "cell_type": "code",
      "source": [
        "data = pd.DataFrame({\n",
        "    'Employee': ['Alice', 'Bob', 'Charlie', 'David', 'Eve'],\n",
        "    'Department': ['HR', 'IT', 'IT', 'HR', 'Finance'],\n",
        "    'Salary': [50000, 60000, 65000, 55000, 70000]\n",
        "})\n"
      ],
      "metadata": {
        "id": "XIS7I-3I-5bY"
      },
      "execution_count": null,
      "outputs": []
    },
    {
      "cell_type": "code",
      "source": [
        "data['Experience'] = [2,4,5,3,10]\n",
        "\n",
        "print(data)"
      ],
      "metadata": {
        "colab": {
          "base_uri": "https://localhost:8080/"
        },
        "id": "uBc9SToP_HmL",
        "outputId": "debc1cbe-5b54-4cfb-e59c-3e306bffa81f"
      },
      "execution_count": null,
      "outputs": [
        {
          "output_type": "stream",
          "name": "stdout",
          "text": [
            "  Employee Department  Salary  Experience\n",
            "0    Alice         HR   50000           2\n",
            "1      Bob         IT   60000           4\n",
            "2  Charlie         IT   65000           5\n",
            "3    David         HR   55000           3\n",
            "4      Eve    Finance   70000          10\n"
          ]
        }
      ]
    },
    {
      "cell_type": "markdown",
      "source": [
        "**Difference between iloc and loc function , explain with example.**"
      ],
      "metadata": {
        "id": "tq4sXhGcANh0"
      }
    },
    {
      "cell_type": "markdown",
      "source": [
        "***Loc***"
      ],
      "metadata": {
        "id": "rpSaB8DYATFC"
      }
    },
    {
      "cell_type": "markdown",
      "source": [
        "* It is use for label base indexing\n",
        "* Use loc when youre accessing by labels like row names or column names\n",
        "* Syntax\n",
        "df.loc[row_label, column_label]\n"
      ],
      "metadata": {
        "id": "XbPlqJEqAfTC"
      }
    },
    {
      "cell_type": "code",
      "source": [
        "eg1=data.loc[:,[\"Employee\",\"Salary\"]]\n",
        "print(eg1)"
      ],
      "metadata": {
        "colab": {
          "base_uri": "https://localhost:8080/"
        },
        "id": "FU32ny8RBTBm",
        "outputId": "58df5ff6-45dc-4112-ef1d-d29c74c506bd"
      },
      "execution_count": null,
      "outputs": [
        {
          "output_type": "stream",
          "name": "stdout",
          "text": [
            "  Employee  Salary\n",
            "0    Alice   50000\n",
            "1      Bob   60000\n",
            "2  Charlie   65000\n",
            "3    David   55000\n",
            "4      Eve   70000\n"
          ]
        }
      ]
    },
    {
      "cell_type": "markdown",
      "source": [
        "***iloc***"
      ],
      "metadata": {
        "id": "CuavYDE3BoGd"
      }
    },
    {
      "cell_type": "markdown",
      "source": [
        "* it is use Integer position based indexing\n",
        "* Slicing with index numbers only\n",
        "* Syntax df.iloc[row_index, column_index]"
      ],
      "metadata": {
        "id": "39pTtQVHBtin"
      }
    },
    {
      "cell_type": "code",
      "source": [
        "eg2=data.iloc[:,[0,2]]\n",
        "print(eg2)"
      ],
      "metadata": {
        "id": "jAyv3sx2CIvt",
        "outputId": "a6f2c658-44ce-45a7-8939-6159fcb617ee",
        "colab": {
          "base_uri": "https://localhost:8080/"
        }
      },
      "execution_count": null,
      "outputs": [
        {
          "output_type": "stream",
          "name": "stdout",
          "text": [
            "  Employee  Salary\n",
            "0    Alice   50000\n",
            "1      Bob   60000\n",
            "2  Charlie   65000\n",
            "3    David   55000\n",
            "4      Eve   70000\n"
          ]
        }
      ]
    }
  ]
}